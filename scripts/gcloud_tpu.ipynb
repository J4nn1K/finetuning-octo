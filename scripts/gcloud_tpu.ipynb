{
 "cells": [
  {
   "cell_type": "code",
   "execution_count": 18,
   "metadata": {},
   "outputs": [
    {
     "name": "stderr",
     "output_type": "stream",
     "text": [
      "/opt/homebrew/lib/python3.11/site-packages/google/auth/_default.py:76: UserWarning: Your application has authenticated using end user credentials from Google Cloud SDK without a quota project. You might receive a \"quota exceeded\" or \"API not enabled\" error. See the following page for troubleshooting: https://cloud.google.com/docs/authentication/adc-troubleshooting/user-creds. \n",
      "  warnings.warn(_CLOUD_SDK_CREDENTIALS_WARNING)\n"
     ]
    }
   ],
   "source": [
    "from google.cloud import tpu_v2\n",
    "\n",
    "client = tpu_v2.TpuClient()\n",
    "\n",
    "name=client.node_path(\n",
    "  project=\"octo-409413\",     \n",
    "  location=\"europe-west4-a\",\n",
    "  node=\"node-2\"\n",
    ")\n",
    "\n",
    "request = tpu_v2.StartNodeRequest(\n",
    "  name=name,\n",
    ")"
   ]
  },
  {
   "cell_type": "code",
   "execution_count": 37,
   "metadata": {},
   "outputs": [
    {
     "name": "stdout",
     "output_type": "stream",
     "text": [
      "Sending StartNodeRequest No.1\n"
     ]
    }
   ],
   "source": [
    "from google.api_core.exceptions import ResourceExhausted\n",
    "\n",
    "node_started = False\n",
    "i=0\n",
    "\n",
    "while not node_started:\n",
    "  try:\n",
    "    i+=1\n",
    "    print('Sending StartNodeRequest No. '+str(i))\n",
    "    operation = client.start_node(request=request)\n",
    "    response = operation.result()\n",
    "    node_started = True\n",
    "    break\n",
    "  except ResourceExhausted as err:\n",
    "    print(err.message+\"\\n\")\n"
   ]
  },
  {
   "cell_type": "code",
   "execution_count": null,
   "metadata": {},
   "outputs": [],
   "source": []
  }
 ],
 "metadata": {
  "kernelspec": {
   "display_name": "Python 3",
   "language": "python",
   "name": "python3"
  },
  "language_info": {
   "codemirror_mode": {
    "name": "ipython",
    "version": 3
   },
   "file_extension": ".py",
   "mimetype": "text/x-python",
   "name": "python",
   "nbconvert_exporter": "python",
   "pygments_lexer": "ipython3",
   "version": "3.11.6"
  }
 },
 "nbformat": 4,
 "nbformat_minor": 2
}
