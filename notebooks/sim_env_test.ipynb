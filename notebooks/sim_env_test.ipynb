{
 "cells": [
  {
   "cell_type": "code",
   "execution_count": null,
   "metadata": {},
   "outputs": [],
   "source": [
    "import gym\n",
    "import sys\n",
    "\n",
    "sys.path.append(\"/home/jannik/repos/act\")\n",
    "from sim_env import BOX_POSE, make_sim_env\n",
    "\n",
    "\n",
    "sys.path.append(\"./../envs\")\n",
    "from aloha_sim_env import AlohaGymEnv"
   ]
  },
  {
   "cell_type": "code",
   "execution_count": null,
   "metadata": {},
   "outputs": [],
   "source": [
    "gym.register(\n",
    "   \"aloha-sim-cube-v0\",\n",
    "    entry_point=lambda: AlohaGymEnv(\n",
    "    make_sim_env(\"sim_transfer_cube\"), camera_names=[\"top\", \"angle\"]\n",
    "    ),\n",
    ")"
   ]
  },
  {
   "cell_type": "code",
   "execution_count": null,
   "metadata": {},
   "outputs": [],
   "source": [
    "env = gym.make(\"aloha-sim-cube-v0\")\n",
    "obs, info = env.reset()"
   ]
  },
  {
   "cell_type": "code",
   "execution_count": null,
   "metadata": {},
   "outputs": [],
   "source": [
    "import matplotlib.pyplot as plt\n",
    "plt.imshow(obs[\"image_primary\"])\n",
    "plt.show()\n",
    "plt.imshow(obs[\"image_wrist\"])\n",
    "plt.show()\n",
    "# plt.imshow(obs[\"image_vis\"])\n",
    "# plt.show()"
   ]
  },
  {
   "cell_type": "code",
   "execution_count": null,
   "metadata": {},
   "outputs": [],
   "source": []
  }
 ],
 "metadata": {
  "kernelspec": {
   "display_name": "robot-learning",
   "language": "python",
   "name": "python3"
  },
  "language_info": {
   "codemirror_mode": {
    "name": "ipython",
    "version": 3
   },
   "file_extension": ".py",
   "mimetype": "text/x-python",
   "name": "python",
   "nbconvert_exporter": "python",
   "pygments_lexer": "ipython3",
   "version": "3.10.13"
  }
 },
 "nbformat": 4,
 "nbformat_minor": 2
}
