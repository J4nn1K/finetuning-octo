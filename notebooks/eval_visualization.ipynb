{
 "cells": [
  {
   "cell_type": "code",
   "execution_count": null,
   "metadata": {},
   "outputs": [],
   "source": [
    "import matplotlib.pyplot as plt\n",
    "import numpy as np\n",
    "import mediapy"
   ]
  },
  {
   "cell_type": "markdown",
   "metadata": {},
   "source": [
    "pls don't look at this code"
   ]
  },
  {
   "cell_type": "code",
   "execution_count": null,
   "metadata": {},
   "outputs": [],
   "source": [
    "ep1 = np.load(\"./../export/raw/episode1.npy\")\n",
    "ep3 = np.load(\"./../export/raw/episode3.npy\")\n",
    "ep4 = np.load(\"./../export/raw/episode4.npy\")\n",
    "ep5 = np.load(\"./../export/raw/episode5.npy\")\n",
    "\n",
    "ep1_angle = np.load(\"./../export/raw/episode1_angle.npy\")\n",
    "ep3_angle = np.load(\"./../export/raw/episode3_angle.npy\")\n",
    "ep4_angle = np.load(\"./../export/raw/episode4_angle.npy\")\n",
    "ep5_angle = np.load(\"./../export/raw/episode5_angle.npy\")"
   ]
  },
  {
   "cell_type": "code",
   "execution_count": null,
   "metadata": {},
   "outputs": [],
   "source": [
    "import cv2\n",
    "\n",
    "t,b,l,r=[2]*4\n",
    "\n",
    "ep1 = [cv2.copyMakeBorder(img, t,b,l,r, cv2.BORDER_CONSTANT, value=[255, 255, 255]) for img in ep1]\n",
    "ep3 = [cv2.copyMakeBorder(img, t,b,l,r, cv2.BORDER_CONSTANT, value=[255, 255, 255]) for img in ep3]\n",
    "ep4 = [cv2.copyMakeBorder(img, t,b,l,r, cv2.BORDER_CONSTANT, value=[255, 255, 255]) for img in ep4]\n",
    "ep5 = [cv2.copyMakeBorder(img, t,b,l,r, cv2.BORDER_CONSTANT, value=[255, 255, 255]) for img in ep5]\n",
    "ep1_angle = [cv2.copyMakeBorder(img, t,b,l,r, cv2.BORDER_CONSTANT, value=[255, 255, 255]) for img in ep1_angle]\n",
    "ep3_angle = [cv2.copyMakeBorder(img, t,b,l,r, cv2.BORDER_CONSTANT, value=[255, 255, 255]) for img in ep3_angle]\n",
    "ep4_angle = [cv2.copyMakeBorder(img, t,b,l,r, cv2.BORDER_CONSTANT, value=[255, 255, 255]) for img in ep4_angle]\n",
    "ep5_angle = [cv2.copyMakeBorder(img, t,b,l,r, cv2.BORDER_CONSTANT, value=[255, 255, 255]) for img in ep5_angle]"
   ]
  },
  {
   "cell_type": "code",
   "execution_count": null,
   "metadata": {},
   "outputs": [],
   "source": [
    "result_top = np.concatenate((ep1,ep3,ep3,ep5), axis=2)\n",
    "result_angle = np.concatenate((ep1_angle,ep3_angle,ep3_angle,ep5_angle), axis=2)\n",
    "\n",
    "result = np.concatenate((result_angle, result_top), axis=1)\n",
    "\n",
    "mediapy.show_video(result, fps=30, codec='gif')\n",
    "mediapy.write_video(\"./../export/eval/examples.gif\", result, fps=30, codec='gif')\n"
   ]
  }
 ],
 "metadata": {
  "kernelspec": {
   "display_name": "robot-learning",
   "language": "python",
   "name": "python3"
  },
  "language_info": {
   "codemirror_mode": {
    "name": "ipython",
    "version": 3
   },
   "file_extension": ".py",
   "mimetype": "text/x-python",
   "name": "python",
   "nbconvert_exporter": "python",
   "pygments_lexer": "ipython3",
   "version": "3.10.13"
  }
 },
 "nbformat": 4,
 "nbformat_minor": 2
}
